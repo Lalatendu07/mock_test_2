{
  "nbformat": 4,
  "nbformat_minor": 0,
  "metadata": {
    "colab": {
      "provenance": []
    },
    "kernelspec": {
      "name": "python3",
      "display_name": "Python 3"
    },
    "language_info": {
      "name": "python"
    }
  },
  "cells": [
    {
      "cell_type": "markdown",
      "source": [
        "Given a non-negative integer x, return the square root of x rounded down to the nearest integer. The returned integer should be non-negative as well. You must not use any built-in exponent function or operator.\n",
        "\n",
        " Example 1:\n",
        "Input: x = 4 Output: 2 Explanation: The square root of 4 is 2, so we return 2.\n",
        "Example 2:\n",
        "\n",
        "Input: x = 8 Output: 2 Explanation: The square root of 8 is 2.82842..., and since we round it down to the nearest integer, 2 is returned.\n",
        "Constraints:\n",
        "\n",
        "0 <= x <= 2^31 - 1"
      ],
      "metadata": {
        "id": "GwF8I5md3ZN0"
      }
    },
    {
      "cell_type": "code",
      "source": [
        "def solution(x:int):\n",
        "  if x==0:\n",
        "    return 0\n",
        "  if x==1:\n",
        "    return 1\n",
        "\n",
        "  for i in range(1,x+1):\n",
        "    if i*i>x:\n",
        "      return i-1\n",
        "\n",
        "solution(8)"
      ],
      "metadata": {
        "colab": {
          "base_uri": "https://localhost:8080/"
        },
        "id": "5WWQRlo_uRvs",
        "outputId": "7da7fb53-4547-4b99-8e5e-f03dcb9f0ca6"
      },
      "execution_count": 22,
      "outputs": [
        {
          "output_type": "execute_result",
          "data": {
            "text/plain": [
              "2"
            ]
          },
          "metadata": {},
          "execution_count": 22
        }
      ]
    },
    {
      "cell_type": "code",
      "source": [],
      "metadata": {
        "id": "f2yneIOcAntj"
      },
      "execution_count": null,
      "outputs": []
    }
  ]
}